{
 "cells": [
  {
   "cell_type": "code",
   "execution_count": 1,
   "id": "f0d5ed0a-f07e-48ba-a2c8-5c70d9a1b336",
   "metadata": {},
   "outputs": [],
   "source": [
    "import cv2\n",
    "import numpy as np\n",
    "import os"
   ]
  },
  {
   "cell_type": "code",
   "execution_count": 2,
   "id": "82550b3d-f7cd-4090-af7a-636f161b8295",
   "metadata": {},
   "outputs": [],
   "source": [
    "def distance(p1,p2) :\n",
    "    return ((p1[0]-p2[0])**2+(p1[1]-p2[1])**2)**0.5\n",
    "\n",
    "def knn(train, test, k=5):\n",
    "\tdist = []\n",
    "\t\n",
    "\tfor i in range(train.shape[0]):\n",
    "\t\t# Get the vector and label\n",
    "\t\tix = train[i, :-1] #rest of the coloumn for feauture part\n",
    "\t\tiy = train[i, -1]  #last coloumn for lable part\n",
    "\t\t# Compute the distance from test point\n",
    "\t\td = distance(test, ix)\n",
    "\t\tdist.append([d, iy])\n",
    "\t# Sort based on distance and get top k\n",
    "\tdk = sorted(dist, key=lambda x: x[0])[:k]\n",
    "\t# Retrieve only the labels\n",
    "\tlabels = np.array(dk)[:, -1]\n",
    "\t\n",
    "\t# Get frequencies of each label\n",
    "\toutput = np.unique(labels, return_counts=True)\n",
    "\t# Find max frequency and corresponding label\n",
    "\tindex = np.argmax(output[1])\n",
    "\treturn output[0][index]"
   ]
  },
  {
   "cell_type": "code",
   "execution_count": 3,
   "id": "e94a5b06-d7bc-4cb5-b488-0d05eb2b7f3b",
   "metadata": {},
   "outputs": [
    {
     "name": "stdout",
     "output_type": "stream",
     "text": [
      "loaded Durgesh.npy\n",
      "loaded raj.npy\n",
      "loaded Rishu.npy\n",
      "213\n",
      "(213, 1)\n",
      "(213, 30001)\n"
     ]
    }
   ],
   "source": [
    "cap = cv2.VideoCapture(0)\n",
    "face_cascade = cv2.CascadeClassifier(\"haarcascade_frontalface_alt.xml\")\n",
    "\n",
    "skip = 0\n",
    "face_data = []\n",
    "dataset_path = './data/'\n",
    "\n",
    "labels = []\n",
    "\n",
    "class_id = 0\n",
    "names = {}\n",
    "\n",
    "for fx in os.listdir(dataset_path):\n",
    "    if fx.endswith('.npy'):\n",
    "        names[class_id] = fx[:-4]\n",
    "        print(\"loaded \" + fx)\n",
    "        data_item = np.load(dataset_path+fx)\n",
    "        face_data.append(data_item)\n",
    "\n",
    "        target = class_id*np.ones((data_item.shape[0],))\n",
    "        class_id  += 1;\n",
    "        labels.append(target)\n",
    "\n",
    "face_dataset = np.concatenate(face_data, axis = 0)\n",
    "face_labels = np.concatenate(labels, axis = 0).reshape((-1,1))\n",
    "\n",
    "print(face_dataset.shape[0])\n",
    "print(face_labels.shape)\n",
    "\n",
    "trainset = np.concatenate((face_dataset,face_labels),axis=1)\n",
    "print(trainset.shape)"
   ]
  },
  {
   "cell_type": "code",
   "execution_count": 4,
   "id": "8c0c9ea8-ab9d-4f2a-b6b5-677f7311eef1",
   "metadata": {},
   "outputs": [],
   "source": [
    "while True:\n",
    "    ret,frame = cap.read()\n",
    "    if ret==False:\n",
    "        continue\n",
    "\n",
    "    faces = face_cascade.detectMultiScale(frame,1.3,5)\n",
    "\n",
    "    for face in faces:\n",
    "        x,y,w,h = face\n",
    "\n",
    "        offset = 10\n",
    "        face_section = frame[y-offset:y+h+offset,x-offset:x+w+offset]\n",
    "        face_section = cv2.resize(face_section,(100,100))\n",
    "\n",
    "        out = knn(trainset,face_section.flatten())\n",
    "\n",
    "        pred_name = names[int(out)]\n",
    "        cv2.putText(frame,pred_name,(x,y-10),cv2.FONT_HERSHEY_SIMPLEX,1,(255,0,0),2,cv2.LINE_AA)\n",
    "        cv2.rectangle(frame,(x,y),(x+w,y+h),(0,255,255),2)\n",
    "\n",
    "    cv2.imshow(\"Faces\", frame)\n",
    "\n",
    "    key = cv2.waitKey(1) & 0xFF\n",
    "    if key==ord('q'):\n",
    "        break\n",
    "\n",
    "cap.release()\n",
    "cv2.destroyAllWindows()\n"
   ]
  },
  {
   "cell_type": "code",
   "execution_count": null,
   "id": "0af0074e-ba5a-408e-93fd-4327061c4ca4",
   "metadata": {},
   "outputs": [],
   "source": []
  }
 ],
 "metadata": {
  "kernelspec": {
   "display_name": "Python 3 (ipykernel)",
   "language": "python",
   "name": "python3"
  },
  "language_info": {
   "codemirror_mode": {
    "name": "ipython",
    "version": 3
   },
   "file_extension": ".py",
   "mimetype": "text/x-python",
   "name": "python",
   "nbconvert_exporter": "python",
   "pygments_lexer": "ipython3",
   "version": "3.11.5"
  }
 },
 "nbformat": 4,
 "nbformat_minor": 5
}
